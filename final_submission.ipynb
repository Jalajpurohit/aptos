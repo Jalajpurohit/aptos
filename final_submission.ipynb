import pandas as pd
import numpy as np
import os
import matplotlib.image as mpimg 
import matplotlib.pyplot as plt 

KEYS_TO_USE = ['id_code', 'diagnosis']
CSV_PATH = os.path.join('..', 'aptos2019-blindness-detection', 'train.csv')
df_csv = pd.read_csv(CSV_PATH, index_col=['id_code'], usecols=KEYS_TO_USE)

def read_png():
    count = 0
    PNG_ROOT = os.path.join('..', 'aptos2019-blindness-detection', 'train_images')
    train_images = []
    for root, _, files in os.walk(PNG_ROOT):
        for f in files:
            if f.endswith('png'):
                img = mpimg.imread(root + '\\' + str(f))
                train_images.append(img)
                count += 1
    print("length of train_images: " + str(len(train_images)))
            
    #df = pd.DataFrame.from_records(train_images, columns=keys_to_use, index='id')
    #return df
    return train_images

read_png()
#df_png.head()
